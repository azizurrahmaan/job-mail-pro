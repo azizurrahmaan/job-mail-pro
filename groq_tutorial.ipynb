{
 "cells": [
  {
   "cell_type": "code",
   "execution_count": 1,
   "id": "7a5474a7-eac4-4271-bd13-5c392d2ded9b",
   "metadata": {},
   "outputs": [],
   "source": [
    "from langchain_groq import ChatGroq\n",
    "\n",
    "llm = ChatGroq(\n",
    "    model=\"llama-3.1-70b-versatile\",\n",
    "    temperature=0,\n",
    "    groq_api_key='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'\n",
    ")"
   ]
  },
  {
   "cell_type": "code",
   "execution_count": 2,
   "id": "1afb61b6-ec1b-4ac0-9a6f-2f3b217e9ea0",
   "metadata": {},
   "outputs": [
    {
     "name": "stdout",
     "output_type": "stream",
     "text": [
      "content=\"That's not correct.  To date, no human has landed on Mars. While there have been numerous robotic missions to Mars, including rovers like NASA's Curiosity and Perseverance, as well as landers and orbiters from various countries and organizations, no human has yet visited the planet.\" additional_kwargs={} response_metadata={'token_usage': {'completion_tokens': 63, 'prompt_tokens': 44, 'total_tokens': 107, 'completion_time': 0.252, 'prompt_time': 0.010554799, 'queue_time': 0.00524467, 'total_time': 0.262554799}, 'model_name': 'llama-3.1-70b-versatile', 'system_fingerprint': 'fp_b3ae7e594e', 'finish_reason': 'stop', 'logprobs': None} id='run-aa04da87-320f-4883-ba3c-59c44b908076-0' usage_metadata={'input_tokens': 44, 'output_tokens': 63, 'total_tokens': 107}\n"
     ]
    }
   ],
   "source": [
    "response = llm.invoke(\"The first person to land on Mars was...\")\n",
    "print(response)"
   ]
  }
 ],
 "metadata": {
  "kernelspec": {
   "display_name": "Python 3 (ipykernel)",
   "language": "python",
   "name": "python3"
  },
  "language_info": {
   "codemirror_mode": {
    "name": "ipython",
    "version": 3
   },
   "file_extension": ".py",
   "mimetype": "text/x-python",
   "name": "python",
   "nbconvert_exporter": "python",
   "pygments_lexer": "ipython3",
   "version": "3.11.5"
  }
 },
 "nbformat": 4,
 "nbformat_minor": 5
}
