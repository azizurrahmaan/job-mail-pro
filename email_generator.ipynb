{
 "cells": [
  {
   "cell_type": "code",
   "execution_count": 1,
   "id": "9591090b-6e00-4fd3-948a-68e83486345e",
   "metadata": {},
   "outputs": [],
   "source": [
    "from langchain_groq import ChatGroq\n",
    "\n",
    "llm = ChatGroq(\n",
    "    model=\"llama-3.1-70b-versatile\",\n",
    "    temperature=0,\n",
    "    groq_api_key='gsk_'\n",
    ")"
   ]
  },
  {
   "cell_type": "code",
   "execution_count": 3,
   "id": "06aba371-3554-40f0-8523-b5be901fa291",
   "metadata": {},
   "outputs": [
    {
     "name": "stdout",
     "output_type": "stream",
     "text": [
      "content=\"That's not correct.  To date, no human has landed on Mars. While there have been numerous robotic missions to Mars, including rovers like NASA's Curiosity and Perseverance, as well as landers and orbiters from various countries and organizations, no human has yet visited the planet.\" additional_kwargs={} response_metadata={'token_usage': {'completion_tokens': 63, 'prompt_tokens': 44, 'total_tokens': 107, 'completion_time': 0.252, 'prompt_time': 0.010624643, 'queue_time': 0.25828095100000004, 'total_time': 0.262624643}, 'model_name': 'llama-3.1-70b-versatile', 'system_fingerprint': 'fp_b6828be2c9', 'finish_reason': 'stop', 'logprobs': None} id='run-7ceb5139-ab89-4c40-bdc3-22794e505693-0' usage_metadata={'input_tokens': 44, 'output_tokens': 63, 'total_tokens': 107}\n"
     ]
    }
   ],
   "source": [
    "response = llm.invoke(\"The first person to land on Mars was...\")\n",
    "print(response)"
   ]
  },
  {
   "cell_type": "code",
   "execution_count": 1,
   "id": "3dad8f82-6196-4b61-b6b5-4a1a11263d79",
   "metadata": {},
   "outputs": [
    {
     "name": "stderr",
     "output_type": "stream",
     "text": [
      "USER_AGENT environment variable not set, consider setting it to identify your requests.\n"
     ]
    },
    {
     "data": {
      "text/plain": [
       "'Just a moment...Enable JavaScript and cookies to continue'"
      ]
     },
     "execution_count": 1,
     "metadata": {},
     "output_type": "execute_result"
    }
   ],
   "source": [
    "from langchain_community.document_loaders import WebBaseLoader\n",
    "\n",
    "loader = WebBaseLoader(\"https://www.upwork.com/freelance-jobs/apply/Full-Stack-Developer_~021833906032048898811\")\n",
    "\n",
    "page_data = loader.load().pop().page_content\n",
    "page_data"
   ]
  },
  {
   "cell_type": "code",
   "execution_count": 18,
   "id": "fd80fb3f-05fc-46c7-8348-255147da4c27",
   "metadata": {},
   "outputs": [
    {
     "data": {
      "text/plain": [
       "str"
      ]
     },
     "execution_count": 18,
     "metadata": {},
     "output_type": "execute_result"
    }
   ],
   "source": [
    "from langchain_core.prompts import PromptTemplate\n",
    "\n",
    "prompt_extract = PromptTemplate.from_template(\n",
    "    \"\"\"\n",
    "    ### SCRAPED TEXT FROM WEBSITE:\n",
    "    {page_data}\n",
    "    ### INSTRUCITON:\n",
    "    The scraped text is from the job details page of a website.\n",
    "    Your job is to extract the jo postings and return them in JSON format containing the\n",
    "    following keys: `role`, `experience`, `skills`, and `description`.\n",
    "    Only return  the valid JSON. No tags. Fully Formatted. No escape characters.\n",
    "    ### VALID JSON (NO PREAMBLE):\n",
    "    \"\"\"\n",
    ")\n",
    "\n",
    "chain_extract = prompt_extract | llm\n",
    "res = chain_extract.invoke(input={'page_data': page_data})\n",
    "type(res.content)"
   ]
  },
  {
   "cell_type": "code",
   "execution_count": 19,
   "id": "695b40d7-7a66-442b-8a9e-a30fdcb4d38e",
   "metadata": {},
   "outputs": [
    {
     "data": {
      "text/plain": [
       "{'role': 'Information Technology Specialist (Direct Hire)',\n",
       " 'experience': 'GS 9 - 12',\n",
       " 'skills': ['Attention to Detail',\n",
       "  'Customer Service',\n",
       "  'Database Management Systems',\n",
       "  'Information Management',\n",
       "  'Problem Solving',\n",
       "  'Oral Communication'],\n",
       " 'description': \"Establish and implement procedures and methodologies to improve the effectiveness and efficiency in the life cycle management of information such as Agency Records as it aligns with National Archives standards and policies. Develop and conduct training, presentations, consultation, and workshops on records management responsibilities including identification of Federal records in all formats and media across NASA’s platforms and systems. Responsible for the formulation, dissemination, and compliance of Agency policies, objectives, and strategic plans relating to records management solutions and technical configurations that enable those policies and objectives. Develop automation to streamline repetitive tasks, automate processes, and improve operational efficiency. Resolve technical issues, provide support to end-users, and collaborate with other teams to troubleshoot complex problems. Engineer and maintain IT solutions such as cloud environments, servers, storage systems, databases, SaaS products, and/or virtualization platforms to meet Agency Records Management standards. Design and maintain data architecture including databases, repositories, and collaboration solutions to support records management needs and analytical requirements. Foster a culture of engagement, diversity, inclusiveness, excellence and innovation. Champion NASA's commitment to Diversity, Equity, Inclusion and Accessibility to create an environment that promotes a commitment to safety, integrity, and teamwork.\"}"
      ]
     },
     "execution_count": 19,
     "metadata": {},
     "output_type": "execute_result"
    }
   ],
   "source": [
    "from langchain_core.output_parsers import JsonOutputParser\n",
    "\n",
    "json_parser = JsonOutputParser()\n",
    "json_res = json_parser.parse(res.content)\n",
    "json_res"
   ]
  },
  {
   "cell_type": "code",
   "execution_count": 20,
   "id": "7ddc69a3-1dd4-4547-92ec-86e5f06fe558",
   "metadata": {},
   "outputs": [
    {
     "data": {
      "text/plain": [
       "dict"
      ]
     },
     "execution_count": 20,
     "metadata": {},
     "output_type": "execute_result"
    }
   ],
   "source": [
    "type(json_res)"
   ]
  },
  {
   "cell_type": "code",
   "execution_count": 23,
   "id": "dc0ad9e5-19a8-4c7a-a678-e51cdf16336d",
   "metadata": {},
   "outputs": [
    {
     "data": {
      "text/html": [
       "<div>\n",
       "<style scoped>\n",
       "    .dataframe tbody tr th:only-of-type {\n",
       "        vertical-align: middle;\n",
       "    }\n",
       "\n",
       "    .dataframe tbody tr th {\n",
       "        vertical-align: top;\n",
       "    }\n",
       "\n",
       "    .dataframe thead th {\n",
       "        text-align: right;\n",
       "    }\n",
       "</style>\n",
       "<table border=\"1\" class=\"dataframe\">\n",
       "  <thead>\n",
       "    <tr style=\"text-align: right;\">\n",
       "      <th></th>\n",
       "      <th>Techstack</th>\n",
       "      <th>Links</th>\n",
       "    </tr>\n",
       "  </thead>\n",
       "  <tbody>\n",
       "    <tr>\n",
       "      <th>0</th>\n",
       "      <td>React, Node.js, MongoDB</td>\n",
       "      <td>https://example.com/react-portfolio</td>\n",
       "    </tr>\n",
       "    <tr>\n",
       "      <th>1</th>\n",
       "      <td>Angular,.NET, SQL Server</td>\n",
       "      <td>https://example.com/angular-portfolio</td>\n",
       "    </tr>\n",
       "    <tr>\n",
       "      <th>2</th>\n",
       "      <td>Vue.js, Ruby on Rails, PostgreSQL</td>\n",
       "      <td>https://example.com/vue-portfolio</td>\n",
       "    </tr>\n",
       "    <tr>\n",
       "      <th>3</th>\n",
       "      <td>Python, Django, MySQL</td>\n",
       "      <td>https://example.com/python-portfolio</td>\n",
       "    </tr>\n",
       "    <tr>\n",
       "      <th>4</th>\n",
       "      <td>Java, Spring Boot, Oracle</td>\n",
       "      <td>https://example.com/java-portfolio</td>\n",
       "    </tr>\n",
       "    <tr>\n",
       "      <th>5</th>\n",
       "      <td>Flutter, Firebase, GraphQL</td>\n",
       "      <td>https://example.com/flutter-portfolio</td>\n",
       "    </tr>\n",
       "    <tr>\n",
       "      <th>6</th>\n",
       "      <td>WordPress, PHP, MySQL</td>\n",
       "      <td>https://example.com/wordpress-portfolio</td>\n",
       "    </tr>\n",
       "    <tr>\n",
       "      <th>7</th>\n",
       "      <td>Magento, PHP, MySQL</td>\n",
       "      <td>https://example.com/magento-portfolio</td>\n",
       "    </tr>\n",
       "    <tr>\n",
       "      <th>8</th>\n",
       "      <td>React Native, Node.js, MongoDB</td>\n",
       "      <td>https://example.com/react-native-portfolio</td>\n",
       "    </tr>\n",
       "    <tr>\n",
       "      <th>9</th>\n",
       "      <td>iOS, Swift, Core Data</td>\n",
       "      <td>https://example.com/ios-portfolio</td>\n",
       "    </tr>\n",
       "    <tr>\n",
       "      <th>10</th>\n",
       "      <td>Android, Java, Room Persistence</td>\n",
       "      <td>https://example.com/android-portfolio</td>\n",
       "    </tr>\n",
       "    <tr>\n",
       "      <th>11</th>\n",
       "      <td>Kotlin, Android, Firebase</td>\n",
       "      <td>https://example.com/kotlin-android-portfolio</td>\n",
       "    </tr>\n",
       "    <tr>\n",
       "      <th>12</th>\n",
       "      <td>Android TV, Kotlin, Android NDK</td>\n",
       "      <td>https://example.com/android-tv-portfolio</td>\n",
       "    </tr>\n",
       "    <tr>\n",
       "      <th>13</th>\n",
       "      <td>iOS, Swift, ARKit</td>\n",
       "      <td>https://example.com/ios-ar-portfolio</td>\n",
       "    </tr>\n",
       "    <tr>\n",
       "      <th>14</th>\n",
       "      <td>Cross-platform, Xamarin, Azure</td>\n",
       "      <td>https://example.com/xamarin-portfolio</td>\n",
       "    </tr>\n",
       "    <tr>\n",
       "      <th>15</th>\n",
       "      <td>Backend, Kotlin, Spring Boot</td>\n",
       "      <td>https://example.com/kotlin-backend-portfolio</td>\n",
       "    </tr>\n",
       "    <tr>\n",
       "      <th>16</th>\n",
       "      <td>Frontend, TypeScript, Angular</td>\n",
       "      <td>https://example.com/typescript-frontend-portfolio</td>\n",
       "    </tr>\n",
       "    <tr>\n",
       "      <th>17</th>\n",
       "      <td>Full-stack, JavaScript, Express.js</td>\n",
       "      <td>https://example.com/full-stack-js-portfolio</td>\n",
       "    </tr>\n",
       "    <tr>\n",
       "      <th>18</th>\n",
       "      <td>Machine Learning, Python, TensorFlow</td>\n",
       "      <td>https://example.com/ml-python-portfolio</td>\n",
       "    </tr>\n",
       "    <tr>\n",
       "      <th>19</th>\n",
       "      <td>DevOps, Jenkins, Docker</td>\n",
       "      <td>https://example.com/devops-portfolio</td>\n",
       "    </tr>\n",
       "  </tbody>\n",
       "</table>\n",
       "</div>"
      ],
      "text/plain": [
       "                               Techstack  \\\n",
       "0                React, Node.js, MongoDB   \n",
       "1               Angular,.NET, SQL Server   \n",
       "2      Vue.js, Ruby on Rails, PostgreSQL   \n",
       "3                  Python, Django, MySQL   \n",
       "4              Java, Spring Boot, Oracle   \n",
       "5             Flutter, Firebase, GraphQL   \n",
       "6                  WordPress, PHP, MySQL   \n",
       "7                    Magento, PHP, MySQL   \n",
       "8         React Native, Node.js, MongoDB   \n",
       "9                  iOS, Swift, Core Data   \n",
       "10       Android, Java, Room Persistence   \n",
       "11             Kotlin, Android, Firebase   \n",
       "12       Android TV, Kotlin, Android NDK   \n",
       "13                     iOS, Swift, ARKit   \n",
       "14        Cross-platform, Xamarin, Azure   \n",
       "15          Backend, Kotlin, Spring Boot   \n",
       "16         Frontend, TypeScript, Angular   \n",
       "17    Full-stack, JavaScript, Express.js   \n",
       "18  Machine Learning, Python, TensorFlow   \n",
       "19               DevOps, Jenkins, Docker   \n",
       "\n",
       "                                                Links  \n",
       "0                 https://example.com/react-portfolio  \n",
       "1               https://example.com/angular-portfolio  \n",
       "2                   https://example.com/vue-portfolio  \n",
       "3                https://example.com/python-portfolio  \n",
       "4                  https://example.com/java-portfolio  \n",
       "5               https://example.com/flutter-portfolio  \n",
       "6             https://example.com/wordpress-portfolio  \n",
       "7               https://example.com/magento-portfolio  \n",
       "8          https://example.com/react-native-portfolio  \n",
       "9                   https://example.com/ios-portfolio  \n",
       "10              https://example.com/android-portfolio  \n",
       "11       https://example.com/kotlin-android-portfolio  \n",
       "12           https://example.com/android-tv-portfolio  \n",
       "13               https://example.com/ios-ar-portfolio  \n",
       "14              https://example.com/xamarin-portfolio  \n",
       "15       https://example.com/kotlin-backend-portfolio  \n",
       "16  https://example.com/typescript-frontend-portfolio  \n",
       "17        https://example.com/full-stack-js-portfolio  \n",
       "18            https://example.com/ml-python-portfolio  \n",
       "19               https://example.com/devops-portfolio  "
      ]
     },
     "execution_count": 23,
     "metadata": {},
     "output_type": "execute_result"
    }
   ],
   "source": [
    "import pandas as pd\n",
    "\n",
    "df = pd.read_csv(\"./app/resources/my_portfolio.csv\")\n",
    "df"
   ]
  },
  {
   "cell_type": "code",
   "execution_count": 26,
   "id": "758bfac8-37ed-4572-a065-31486d424fa3",
   "metadata": {},
   "outputs": [],
   "source": [
    "import chromadb, uuid\n",
    "\n",
    "client = chromadb.PersistentClient('vectorstore')\n",
    "collection = client.get_or_create_collection(name=\"portfolio\")\n",
    "\n",
    "if not collection.count():\n",
    "    for _, row in df.iterrows():\n",
    "        collection.add(\n",
    "            documents=row[\"Techstack\"],\n",
    "            metadatas={\"links\": row[\"Links\"]},\n",
    "            ids=[str(uuid.uuid4())]\n",
    "        )"
   ]
  },
  {
   "cell_type": "code",
   "execution_count": 35,
   "id": "fb37ffd6-3efd-419f-bc2b-a9415a58ce97",
   "metadata": {},
   "outputs": [
    {
     "name": "stdout",
     "output_type": "stream",
     "text": [
      "[[{'links': 'https://example.com/ios-portfolio'}, {'links': 'https://example.com/magento-portfolio'}], [{'links': 'https://example.com/magento-portfolio'}, {'links': 'https://example.com/ml-python-portfolio'}], [{'links': 'https://example.com/magento-portfolio'}, {'links': 'https://example.com/wordpress-portfolio'}], [{'links': 'https://example.com/wordpress-portfolio'}, {'links': 'https://example.com/magento-portfolio'}], [{'links': 'https://example.com/ml-python-portfolio'}, {'links': 'https://example.com/magento-portfolio'}], [{'links': 'https://example.com/android-portfolio'}, {'links': 'https://example.com/android-tv-portfolio'}]]\n"
     ]
    }
   ],
   "source": [
    "links = collection.query(\n",
    "    query_texts=job['skills'],\n",
    "    n_results=2\n",
    ").get(\"metadatas\")\n",
    "\n",
    "print(links)"
   ]
  },
  {
   "cell_type": "code",
   "execution_count": 36,
   "id": "ba2cc4c3-cf84-4ded-859a-6aa80df402c0",
   "metadata": {},
   "outputs": [
    {
     "data": {
      "text/plain": [
       "['Attention to Detail',\n",
       " 'Customer Service',\n",
       " 'Database Management Systems',\n",
       " 'Information Management',\n",
       " 'Problem Solving',\n",
       " 'Oral Communication']"
      ]
     },
     "execution_count": 36,
     "metadata": {},
     "output_type": "execute_result"
    }
   ],
   "source": [
    "job = json_res\n",
    "job['skills']"
   ]
  },
  {
   "cell_type": "code",
   "execution_count": 38,
   "id": "67377677-d071-485a-8c47-82b308fa63e5",
   "metadata": {},
   "outputs": [
    {
     "name": "stdout",
     "output_type": "stream",
     "text": [
      "Subject: Expert IT Solutions for NASA's Information Management Needs\n",
      "\n",
      "Dear Hiring Manager,\n",
      "\n",
      "I came across the Information Technology Specialist (Direct Hire) role at NASA and was impressed by the organization's commitment to innovation and excellence. As a Business Development Executive at FamCodings, I believe our expertise in AI and software consulting can help NASA achieve its goals in information management and records management solutions.\n",
      "\n",
      "Our team at FamCodings has extensive experience in developing and implementing IT solutions that improve operational efficiency, streamline processes, and enhance data management. We have successfully empowered numerous enterprises with tailored solutions, fostering scalability, process optimization, cost reduction, and heightened overall efficiency.\n",
      "\n",
      "In particular, our expertise in database management systems, cloud environments, and data architecture can help NASA establish and implement procedures to improve the effectiveness and efficiency of its information life cycle management. Our team can also develop automation to streamline repetitive tasks, automate processes, and improve operational efficiency.\n",
      "\n",
      "I'd like to highlight some of our relevant portfolio work:\n",
      "\n",
      "* Our expertise in developing scalable and secure cloud environments can be seen in our Magento portfolio (https://example.com/magento-portfolio).\n",
      "* Our experience in designing and maintaining data architecture, including databases and repositories, is showcased in our WordPress portfolio (https://example.com/wordpress-portfolio).\n",
      "* Our ability to develop automation solutions using machine learning and Python is demonstrated in our ML-Python portfolio (https://example.com/ml-python-portfolio).\n",
      "\n",
      "We are confident that our expertise can help NASA achieve its objectives in records management and information management. I'd be delighted to schedule a call to discuss how FamCodings can support NASA's IT needs.\n",
      "\n",
      "Please feel free to contact me at your convenience.\n",
      "\n",
      "Best regards,\n",
      "\n",
      "Salman\n",
      "Business Development Executive\n",
      "FamCodings\n"
     ]
    }
   ],
   "source": [
    "prompt_email = PromptTemplate.from_template(\n",
    "        \"\"\"\n",
    "        ### JOB DESCRIPTION:\n",
    "        {job_description}\n",
    "        \n",
    "        ### INSTRUCTION:\n",
    "        You are Salman, a business development executive at FamCodings. FamCodings is an AI & Software Consulting company dedicated to facilitating\n",
    "        the seamless integration of business processes through automated tools. \n",
    "        Over our experience, we have empowered numerous enterprises with tailored solutions, fostering scalability, \n",
    "        process optimization, cost reduction, and heightened overall efficiency. \n",
    "        Your job is to write a cold email to the client regarding the job mentioned above describing the capability of FamCodings \n",
    "        in fulfilling their needs.\n",
    "        Also add the most relevant ones from the following links to showcase FamCodings's portfolio: {link_list}\n",
    "        Remember you are Salman, BDE at FamCodings. \n",
    "        Do not provide a preamble.\n",
    "        ### EMAIL (NO PREAMBLE):\n",
    "\n",
    "        \"\"\"\n",
    "        )\n",
    "\n",
    "chain_email = prompt_email | llm\n",
    "res = chain_email.invoke({\"job_description\": str(job), \"link_list\": links})\n",
    "print(res.content)"
   ]
  },
  {
   "cell_type": "code",
   "execution_count": null,
   "id": "58c80c0c-124c-4f88-8f80-744580ff07a9",
   "metadata": {},
   "outputs": [],
   "source": []
  }
 ],
 "metadata": {
  "kernelspec": {
   "display_name": "Python 3 (ipykernel)",
   "language": "python",
   "name": "python3"
  },
  "language_info": {
   "codemirror_mode": {
    "name": "ipython",
    "version": 3
   },
   "file_extension": ".py",
   "mimetype": "text/x-python",
   "name": "python",
   "nbconvert_exporter": "python",
   "pygments_lexer": "ipython3",
   "version": "3.11.5"
  }
 },
 "nbformat": 4,
 "nbformat_minor": 5
}
